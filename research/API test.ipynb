{
 "cells": [
  {
   "cell_type": "code",
   "execution_count": 3,
   "metadata": {},
   "outputs": [],
   "source": [
    "import nest_asyncio\n",
    "nest_asyncio.apply()\n",
    "import finviz\n",
    "from finviz.screener import Screener"
   ]
  },
  {
   "cell_type": "code",
   "execution_count": 13,
   "metadata": {},
   "outputs": [
    {
     "name": "stdout",
     "output_type": "stream",
     "text": [
      "AMZN 2379.61\n",
      "BKNG 1430.83\n",
      "GOOG 1388.37\n",
      "GOOGL 1384.34\n",
      "EQIX 678.16\n",
      "REGN 563.40\n",
      "ISRG 537.77\n",
      "CHTR 515.28\n",
      "MKTX 484.32\n",
      "NFLX 435.55\n"
     ]
    }
   ],
   "source": [
    "filters = ['exch_nasd', 'idx_sp500']\n",
    "stock_list = Screener(filters=filters, table='Performance', order='-price') \n",
    "\n",
    "for stock in stock_list[0:10]:\n",
    "    print(stock['Ticker'], stock['Price'])"
   ]
  },
  {
   "cell_type": "code",
   "execution_count": 14,
   "metadata": {
    "scrolled": true
   },
   "outputs": [
    {
     "name": "stdout",
     "output_type": "stream",
     "text": [
      "Went up today:\n",
      "NWS 13.29%\n",
      "NWSA 13.26%\n",
      "NBL 13.21%\n",
      "UAL 11.74%\n",
      "DISH 10.19%\n",
      "VIAC 10.11%\n",
      "WYNN 9.22%\n",
      "REG 7.26%\n",
      "LRCX 7.18%\n",
      "EXC 6.82%\n"
     ]
    }
   ],
   "source": [
    "stock_list.add(filters=['ta_perf_dup'], order='-Change')  \n",
    "\n",
    "print('Went up today:')\n",
    "for stock in stock_list[0:10]:\n",
    "    print(stock['Ticker'], stock['Change'])"
   ]
  },
  {
   "cell_type": "code",
   "execution_count": 6,
   "metadata": {},
   "outputs": [
    {
     "data": {
      "text/plain": [
       "{'Company': 'AT&T Inc.',\n",
       " 'Sector': 'Communication Services',\n",
       " 'Industry': 'Telecom Services',\n",
       " 'Country': 'USA',\n",
       " 'Index': 'S&P 500',\n",
       " 'P/E': '15.11',\n",
       " 'EPS (ttm)': '1.97',\n",
       " 'Insider Own': '0.08%',\n",
       " 'Shs Outstand': '7.19B',\n",
       " 'Perf Week': '-0.37%',\n",
       " 'Market Cap': '214.10B',\n",
       " 'Forward P/E': '8.89',\n",
       " 'EPS next Y': '3.87%',\n",
       " 'Insider Trans': '2.51%',\n",
       " 'Shs Float': '7.05B',\n",
       " 'Perf Month': '-0.33%',\n",
       " 'Income': '14.38B',\n",
       " 'PEG': '6.25',\n",
       " 'EPS next Q': '0.80',\n",
       " 'Inst Own': '57.00%',\n",
       " 'Short Float': '1.79%',\n",
       " 'Perf Quarter': '-22.52%',\n",
       " 'Sales': '179.15B',\n",
       " 'P/S': '1.20',\n",
       " 'EPS this Y': '-30.90%',\n",
       " 'Inst Trans': '-0.90%',\n",
       " 'Short Ratio': '2.62',\n",
       " 'Perf Half Y': '-24.10%',\n",
       " 'Book/sh': '24.74',\n",
       " 'P/B': '1.20',\n",
       " 'ROA': '2.60%',\n",
       " 'Target Price': '33.88',\n",
       " 'Perf Year': '-1.94%',\n",
       " 'Cash/sh': '1.39',\n",
       " 'P/C': '21.51',\n",
       " 'EPS next 5Y': '2.42%',\n",
       " 'ROE': '7.90%',\n",
       " '52W Range': '26.08 - 39.70',\n",
       " 'Perf YTD': '-23.77%',\n",
       " 'Dividend': '2.08',\n",
       " 'P/FCF': '17.38',\n",
       " 'EPS past 5Y': '8.90%',\n",
       " 'ROI': '7.00%',\n",
       " '52W High': '-24.96%',\n",
       " 'Beta': '0.68',\n",
       " 'Dividend %': '6.98%',\n",
       " 'Quick Ratio': '0.80',\n",
       " 'Sales past 5Y': '6.50%',\n",
       " 'Gross Margin': '53.80%',\n",
       " '52W Low': '14.23%',\n",
       " 'ATR': '0.99',\n",
       " 'Employees': '244000',\n",
       " 'Current Ratio': '0.80',\n",
       " 'Sales Q/Q': '-4.60%',\n",
       " 'Oper. Margin': '15.70%',\n",
       " 'RSI (14)': '46.52',\n",
       " 'Volatility': '2.12% 2.65%',\n",
       " 'Optionable': 'Yes',\n",
       " 'Debt/Eq': '0.92',\n",
       " 'EPS Q/Q': '13.70%',\n",
       " 'Profit Margin': '8.00%',\n",
       " 'Rel Volume': '0.50',\n",
       " 'Prev Close': '28.89',\n",
       " 'Shortable': 'Yes',\n",
       " 'LT Debt/Eq': '0.83',\n",
       " 'Earnings': 'Apr 22 BMO',\n",
       " 'Payout': '103.70%',\n",
       " 'Avg Volume': '48.19M',\n",
       " 'Price': '29.79',\n",
       " 'Recom': '2.70',\n",
       " 'SMA20': '-1.21%',\n",
       " 'SMA50': '-4.86%',\n",
       " 'SMA200': '-16.97%',\n",
       " 'Volume': '23,963,044',\n",
       " 'Change': '3.12%'}"
      ]
     },
     "execution_count": 6,
     "metadata": {},
     "output_type": "execute_result"
    }
   ],
   "source": [
    "finviz.get_stock('T')"
   ]
  },
  {
   "cell_type": "code",
   "execution_count": null,
   "metadata": {},
   "outputs": [],
   "source": []
  }
 ],
 "metadata": {
  "kernelspec": {
   "display_name": "Python [conda env:invest] *",
   "language": "python",
   "name": "conda-env-invest-py"
  },
  "language_info": {
   "codemirror_mode": {
    "name": "ipython",
    "version": 3
   },
   "file_extension": ".py",
   "mimetype": "text/x-python",
   "name": "python",
   "nbconvert_exporter": "python",
   "pygments_lexer": "ipython3",
   "version": "3.7.7"
  }
 },
 "nbformat": 4,
 "nbformat_minor": 4
}
