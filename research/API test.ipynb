{
 "cells": [
  {
   "cell_type": "code",
   "execution_count": 1,
   "metadata": {},
   "outputs": [],
   "source": [
    "import nest_asyncio\n",
    "nest_asyncio.apply()\n",
    "from finviz.screener import Screener"
   ]
  },
  {
   "cell_type": "code",
   "execution_count": 13,
   "metadata": {},
   "outputs": [
    {
     "name": "stdout",
     "output_type": "stream",
     "text": [
      "AMZN 2379.61\n",
      "BKNG 1430.83\n",
      "GOOG 1388.37\n",
      "GOOGL 1384.34\n",
      "EQIX 678.16\n",
      "REGN 563.40\n",
      "ISRG 537.77\n",
      "CHTR 515.28\n",
      "MKTX 484.32\n",
      "NFLX 435.55\n"
     ]
    }
   ],
   "source": [
    "filters = ['exch_nasd', 'idx_sp500']\n",
    "stock_list = Screener(filters=filters, table='Performance', order='-price') \n",
    "\n",
    "for stock in stock_list[0:10]:\n",
    "    print(stock['Ticker'], stock['Price'])"
   ]
  },
  {
   "cell_type": "code",
   "execution_count": 14,
   "metadata": {
    "scrolled": true
   },
   "outputs": [
    {
     "name": "stdout",
     "output_type": "stream",
     "text": [
      "Went up today:\n",
      "NWS 13.29%\n",
      "NWSA 13.26%\n",
      "NBL 13.21%\n",
      "UAL 11.74%\n",
      "DISH 10.19%\n",
      "VIAC 10.11%\n",
      "WYNN 9.22%\n",
      "REG 7.26%\n",
      "LRCX 7.18%\n",
      "EXC 6.82%\n"
     ]
    }
   ],
   "source": [
    "stock_list.add(filters=['ta_perf_dup'], order='-Change')  \n",
    "\n",
    "print('Went up today:')\n",
    "for stock in stock_list[0:10]:\n",
    "    print(stock['Ticker'], stock['Change'])"
   ]
  },
  {
   "cell_type": "code",
   "execution_count": null,
   "metadata": {},
   "outputs": [],
   "source": []
  }
 ],
 "metadata": {
  "kernelspec": {
   "display_name": "Python [conda env:invest] *",
   "language": "python",
   "name": "conda-env-invest-py"
  },
  "language_info": {
   "codemirror_mode": {
    "name": "ipython",
    "version": 3
   },
   "file_extension": ".py",
   "mimetype": "text/x-python",
   "name": "python",
   "nbconvert_exporter": "python",
   "pygments_lexer": "ipython3",
   "version": "3.7.7"
  }
 },
 "nbformat": 4,
 "nbformat_minor": 4
}
